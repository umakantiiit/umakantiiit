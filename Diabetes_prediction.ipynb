{
  "nbformat": 4,
  "nbformat_minor": 0,
  "metadata": {
    "colab": {
      "provenance": [],
      "authorship_tag": "ABX9TyMFw3TJEJ3LUgWxAjl22BNy",
      "include_colab_link": true
    },
    "kernelspec": {
      "name": "python3",
      "display_name": "Python 3"
    },
    "language_info": {
      "name": "python"
    }
  },
  "cells": [
    {
      "cell_type": "markdown",
      "metadata": {
        "id": "view-in-github",
        "colab_type": "text"
      },
      "source": [
        "<a href=\"https://colab.research.google.com/github/umakantiiit/umakantiiit/blob/main/Diabetes_prediction.ipynb\" target=\"_parent\"><img src=\"https://colab.research.google.com/assets/colab-badge.svg\" alt=\"Open In Colab\"/></a>"
      ]
    },
    {
      "cell_type": "code",
      "execution_count": null,
      "metadata": {
        "id": "1Aj9JLeDOhuq"
      },
      "outputs": [],
      "source": [
        "import tensorflow as tf\n",
        "import numpy as np\n",
        "import pandas as pd\n",
        "from pylab import rcParams\n",
        "import matplotlib.pyplot as plt\n",
        "import warnings\n",
        "from mlxtend.plotting import plot_decision_regions\n",
        "from matplotlib.colors import ListedColormap\n",
        "from tensorflow.keras.models import Sequential\n",
        "from tensorflow.keras.layers import Dropout\n",
        "from tensorflow.keras.layers import Dense\n",
        "from tensorflow.keras.callbacks import EarlyStopping\n",
        "from sklearn.model_selection import train_test_split\n",
        "from sklearn.datasets import make_circles\n",
        "import seaborn as sns"
      ]
    },
    {
      "cell_type": "code",
      "source": [
        "df=pd.read_csv(\"/content/diabetes.csv\")\n",
        "df.head()"
      ],
      "metadata": {
        "colab": {
          "base_uri": "https://localhost:8080/",
          "height": 206
        },
        "id": "oZC8uOniRIGy",
        "outputId": "dcd58c07-f569-4b21-aa9d-31879c659675"
      },
      "execution_count": null,
      "outputs": [
        {
          "output_type": "execute_result",
          "data": {
            "text/plain": [
              "   Pregnancies  Glucose  BloodPressure  SkinThickness  Insulin   BMI  \\\n",
              "0            6      148             72             35        0  33.6   \n",
              "1            1       85             66             29        0  26.6   \n",
              "2            8      183             64              0        0  23.3   \n",
              "3            1       89             66             23       94  28.1   \n",
              "4            0      137             40             35      168  43.1   \n",
              "\n",
              "   DiabetesPedigreeFunction  Age  Outcome  \n",
              "0                     0.627   50        1  \n",
              "1                     0.351   31        0  \n",
              "2                     0.672   32        1  \n",
              "3                     0.167   21        0  \n",
              "4                     2.288   33        1  "
            ],
            "text/html": [
              "\n",
              "\n",
              "  <div id=\"df-c8499718-1ad3-49ab-9b6c-94651e22b795\">\n",
              "    <div class=\"colab-df-container\">\n",
              "      <div>\n",
              "<style scoped>\n",
              "    .dataframe tbody tr th:only-of-type {\n",
              "        vertical-align: middle;\n",
              "    }\n",
              "\n",
              "    .dataframe tbody tr th {\n",
              "        vertical-align: top;\n",
              "    }\n",
              "\n",
              "    .dataframe thead th {\n",
              "        text-align: right;\n",
              "    }\n",
              "</style>\n",
              "<table border=\"1\" class=\"dataframe\">\n",
              "  <thead>\n",
              "    <tr style=\"text-align: right;\">\n",
              "      <th></th>\n",
              "      <th>Pregnancies</th>\n",
              "      <th>Glucose</th>\n",
              "      <th>BloodPressure</th>\n",
              "      <th>SkinThickness</th>\n",
              "      <th>Insulin</th>\n",
              "      <th>BMI</th>\n",
              "      <th>DiabetesPedigreeFunction</th>\n",
              "      <th>Age</th>\n",
              "      <th>Outcome</th>\n",
              "    </tr>\n",
              "  </thead>\n",
              "  <tbody>\n",
              "    <tr>\n",
              "      <th>0</th>\n",
              "      <td>6</td>\n",
              "      <td>148</td>\n",
              "      <td>72</td>\n",
              "      <td>35</td>\n",
              "      <td>0</td>\n",
              "      <td>33.6</td>\n",
              "      <td>0.627</td>\n",
              "      <td>50</td>\n",
              "      <td>1</td>\n",
              "    </tr>\n",
              "    <tr>\n",
              "      <th>1</th>\n",
              "      <td>1</td>\n",
              "      <td>85</td>\n",
              "      <td>66</td>\n",
              "      <td>29</td>\n",
              "      <td>0</td>\n",
              "      <td>26.6</td>\n",
              "      <td>0.351</td>\n",
              "      <td>31</td>\n",
              "      <td>0</td>\n",
              "    </tr>\n",
              "    <tr>\n",
              "      <th>2</th>\n",
              "      <td>8</td>\n",
              "      <td>183</td>\n",
              "      <td>64</td>\n",
              "      <td>0</td>\n",
              "      <td>0</td>\n",
              "      <td>23.3</td>\n",
              "      <td>0.672</td>\n",
              "      <td>32</td>\n",
              "      <td>1</td>\n",
              "    </tr>\n",
              "    <tr>\n",
              "      <th>3</th>\n",
              "      <td>1</td>\n",
              "      <td>89</td>\n",
              "      <td>66</td>\n",
              "      <td>23</td>\n",
              "      <td>94</td>\n",
              "      <td>28.1</td>\n",
              "      <td>0.167</td>\n",
              "      <td>21</td>\n",
              "      <td>0</td>\n",
              "    </tr>\n",
              "    <tr>\n",
              "      <th>4</th>\n",
              "      <td>0</td>\n",
              "      <td>137</td>\n",
              "      <td>40</td>\n",
              "      <td>35</td>\n",
              "      <td>168</td>\n",
              "      <td>43.1</td>\n",
              "      <td>2.288</td>\n",
              "      <td>33</td>\n",
              "      <td>1</td>\n",
              "    </tr>\n",
              "  </tbody>\n",
              "</table>\n",
              "</div>\n",
              "      <button class=\"colab-df-convert\" onclick=\"convertToInteractive('df-c8499718-1ad3-49ab-9b6c-94651e22b795')\"\n",
              "              title=\"Convert this dataframe to an interactive table.\"\n",
              "              style=\"display:none;\">\n",
              "\n",
              "  <svg xmlns=\"http://www.w3.org/2000/svg\" height=\"24px\"viewBox=\"0 0 24 24\"\n",
              "       width=\"24px\">\n",
              "    <path d=\"M0 0h24v24H0V0z\" fill=\"none\"/>\n",
              "    <path d=\"M18.56 5.44l.94 2.06.94-2.06 2.06-.94-2.06-.94-.94-2.06-.94 2.06-2.06.94zm-11 1L8.5 8.5l.94-2.06 2.06-.94-2.06-.94L8.5 2.5l-.94 2.06-2.06.94zm10 10l.94 2.06.94-2.06 2.06-.94-2.06-.94-.94-2.06-.94 2.06-2.06.94z\"/><path d=\"M17.41 7.96l-1.37-1.37c-.4-.4-.92-.59-1.43-.59-.52 0-1.04.2-1.43.59L10.3 9.45l-7.72 7.72c-.78.78-.78 2.05 0 2.83L4 21.41c.39.39.9.59 1.41.59.51 0 1.02-.2 1.41-.59l7.78-7.78 2.81-2.81c.8-.78.8-2.07 0-2.86zM5.41 20L4 18.59l7.72-7.72 1.47 1.35L5.41 20z\"/>\n",
              "  </svg>\n",
              "      </button>\n",
              "\n",
              "\n",
              "\n",
              "    <div id=\"df-968c804d-05ac-4012-90fa-d7f365dd486d\">\n",
              "      <button class=\"colab-df-quickchart\" onclick=\"quickchart('df-968c804d-05ac-4012-90fa-d7f365dd486d')\"\n",
              "              title=\"Suggest charts.\"\n",
              "              style=\"display:none;\">\n",
              "\n",
              "<svg xmlns=\"http://www.w3.org/2000/svg\" height=\"24px\"viewBox=\"0 0 24 24\"\n",
              "     width=\"24px\">\n",
              "    <g>\n",
              "        <path d=\"M19 3H5c-1.1 0-2 .9-2 2v14c0 1.1.9 2 2 2h14c1.1 0 2-.9 2-2V5c0-1.1-.9-2-2-2zM9 17H7v-7h2v7zm4 0h-2V7h2v10zm4 0h-2v-4h2v4z\"/>\n",
              "    </g>\n",
              "</svg>\n",
              "      </button>\n",
              "    </div>\n",
              "\n",
              "<style>\n",
              "  .colab-df-quickchart {\n",
              "    background-color: #E8F0FE;\n",
              "    border: none;\n",
              "    border-radius: 50%;\n",
              "    cursor: pointer;\n",
              "    display: none;\n",
              "    fill: #1967D2;\n",
              "    height: 32px;\n",
              "    padding: 0 0 0 0;\n",
              "    width: 32px;\n",
              "  }\n",
              "\n",
              "  .colab-df-quickchart:hover {\n",
              "    background-color: #E2EBFA;\n",
              "    box-shadow: 0px 1px 2px rgba(60, 64, 67, 0.3), 0px 1px 3px 1px rgba(60, 64, 67, 0.15);\n",
              "    fill: #174EA6;\n",
              "  }\n",
              "\n",
              "  [theme=dark] .colab-df-quickchart {\n",
              "    background-color: #3B4455;\n",
              "    fill: #D2E3FC;\n",
              "  }\n",
              "\n",
              "  [theme=dark] .colab-df-quickchart:hover {\n",
              "    background-color: #434B5C;\n",
              "    box-shadow: 0px 1px 3px 1px rgba(0, 0, 0, 0.15);\n",
              "    filter: drop-shadow(0px 1px 2px rgba(0, 0, 0, 0.3));\n",
              "    fill: #FFFFFF;\n",
              "  }\n",
              "</style>\n",
              "\n",
              "    <script>\n",
              "      async function quickchart(key) {\n",
              "        const containerElement = document.querySelector('#' + key);\n",
              "        const charts = await google.colab.kernel.invokeFunction(\n",
              "            'suggestCharts', [key], {});\n",
              "      }\n",
              "    </script>\n",
              "\n",
              "      <script>\n",
              "\n",
              "function displayQuickchartButton(domScope) {\n",
              "  let quickchartButtonEl =\n",
              "    domScope.querySelector('#df-968c804d-05ac-4012-90fa-d7f365dd486d button.colab-df-quickchart');\n",
              "  quickchartButtonEl.style.display =\n",
              "    google.colab.kernel.accessAllowed ? 'block' : 'none';\n",
              "}\n",
              "\n",
              "        displayQuickchartButton(document);\n",
              "      </script>\n",
              "      <style>\n",
              "    .colab-df-container {\n",
              "      display:flex;\n",
              "      flex-wrap:wrap;\n",
              "      gap: 12px;\n",
              "    }\n",
              "\n",
              "    .colab-df-convert {\n",
              "      background-color: #E8F0FE;\n",
              "      border: none;\n",
              "      border-radius: 50%;\n",
              "      cursor: pointer;\n",
              "      display: none;\n",
              "      fill: #1967D2;\n",
              "      height: 32px;\n",
              "      padding: 0 0 0 0;\n",
              "      width: 32px;\n",
              "    }\n",
              "\n",
              "    .colab-df-convert:hover {\n",
              "      background-color: #E2EBFA;\n",
              "      box-shadow: 0px 1px 2px rgba(60, 64, 67, 0.3), 0px 1px 3px 1px rgba(60, 64, 67, 0.15);\n",
              "      fill: #174EA6;\n",
              "    }\n",
              "\n",
              "    [theme=dark] .colab-df-convert {\n",
              "      background-color: #3B4455;\n",
              "      fill: #D2E3FC;\n",
              "    }\n",
              "\n",
              "    [theme=dark] .colab-df-convert:hover {\n",
              "      background-color: #434B5C;\n",
              "      box-shadow: 0px 1px 3px 1px rgba(0, 0, 0, 0.15);\n",
              "      filter: drop-shadow(0px 1px 2px rgba(0, 0, 0, 0.3));\n",
              "      fill: #FFFFFF;\n",
              "    }\n",
              "  </style>\n",
              "\n",
              "      <script>\n",
              "        const buttonEl =\n",
              "          document.querySelector('#df-c8499718-1ad3-49ab-9b6c-94651e22b795 button.colab-df-convert');\n",
              "        buttonEl.style.display =\n",
              "          google.colab.kernel.accessAllowed ? 'block' : 'none';\n",
              "\n",
              "        async function convertToInteractive(key) {\n",
              "          const element = document.querySelector('#df-c8499718-1ad3-49ab-9b6c-94651e22b795');\n",
              "          const dataTable =\n",
              "            await google.colab.kernel.invokeFunction('convertToInteractive',\n",
              "                                                     [key], {});\n",
              "          if (!dataTable) return;\n",
              "\n",
              "          const docLinkHtml = 'Like what you see? Visit the ' +\n",
              "            '<a target=\"_blank\" href=https://colab.research.google.com/notebooks/data_table.ipynb>data table notebook</a>'\n",
              "            + ' to learn more about interactive tables.';\n",
              "          element.innerHTML = '';\n",
              "          dataTable['output_type'] = 'display_data';\n",
              "          await google.colab.output.renderOutput(dataTable, element);\n",
              "          const docLink = document.createElement('div');\n",
              "          docLink.innerHTML = docLinkHtml;\n",
              "          element.appendChild(docLink);\n",
              "        }\n",
              "      </script>\n",
              "    </div>\n",
              "  </div>\n"
            ]
          },
          "metadata": {},
          "execution_count": 3
        }
      ]
    },
    {
      "cell_type": "code",
      "source": [
        "df['Pregnancies'].value_counts()"
      ],
      "metadata": {
        "colab": {
          "base_uri": "https://localhost:8080/"
        },
        "id": "yfZuuhFQSC3b",
        "outputId": "a308c4fc-0ea9-4712-9af4-b7521d141dc2"
      },
      "execution_count": null,
      "outputs": [
        {
          "output_type": "execute_result",
          "data": {
            "text/plain": [
              "1     135\n",
              "0     111\n",
              "2     103\n",
              "3      75\n",
              "4      68\n",
              "5      57\n",
              "6      50\n",
              "7      45\n",
              "8      38\n",
              "9      28\n",
              "10     24\n",
              "11     11\n",
              "13     10\n",
              "12      9\n",
              "14      2\n",
              "15      1\n",
              "17      1\n",
              "Name: Pregnancies, dtype: int64"
            ]
          },
          "metadata": {},
          "execution_count": 4
        }
      ]
    },
    {
      "cell_type": "code",
      "source": [
        "X = df.drop(columns=['Outcome'])\n",
        "y=df['Outcome'].values\n"
      ],
      "metadata": {
        "id": "j1TugslOStCV"
      },
      "execution_count": null,
      "outputs": []
    },
    {
      "cell_type": "code",
      "source": [
        "df.shape"
      ],
      "metadata": {
        "colab": {
          "base_uri": "https://localhost:8080/"
        },
        "id": "HYp4Md4ZTNgz",
        "outputId": "5b2acf82-9863-43e5-87ad-ad6c1c44a451"
      },
      "execution_count": null,
      "outputs": [
        {
          "output_type": "execute_result",
          "data": {
            "text/plain": [
              "(768, 9)"
            ]
          },
          "metadata": {},
          "execution_count": 211
        }
      ]
    },
    {
      "cell_type": "code",
      "source": [
        "df.isnull().sum()"
      ],
      "metadata": {
        "colab": {
          "base_uri": "https://localhost:8080/"
        },
        "id": "JlSebhexTeBM",
        "outputId": "45c5d4cd-4caf-4222-dc79-318c06e48d57"
      },
      "execution_count": null,
      "outputs": [
        {
          "output_type": "execute_result",
          "data": {
            "text/plain": [
              "Pregnancies                 0\n",
              "Glucose                     0\n",
              "BloodPressure               0\n",
              "SkinThickness               0\n",
              "Insulin                     0\n",
              "BMI                         0\n",
              "DiabetesPedigreeFunction    0\n",
              "Age                         0\n",
              "Outcome                     0\n",
              "dtype: int64"
            ]
          },
          "metadata": {},
          "execution_count": 212
        }
      ]
    },
    {
      "cell_type": "code",
      "source": [
        "print(y.shape)"
      ],
      "metadata": {
        "colab": {
          "base_uri": "https://localhost:8080/"
        },
        "id": "yOKWH0UaTp8J",
        "outputId": "9d9a37dc-4857-45d2-c313-6d84a4dcb6a3"
      },
      "execution_count": null,
      "outputs": [
        {
          "output_type": "stream",
          "name": "stdout",
          "text": [
            "(768,)\n"
          ]
        }
      ]
    },
    {
      "cell_type": "code",
      "source": [
        "df['Outcome'].value_counts()"
      ],
      "metadata": {
        "colab": {
          "base_uri": "https://localhost:8080/"
        },
        "id": "48PtHpRaUI7w",
        "outputId": "49770bbd-20c1-44c4-8f2a-9958bb783ae9"
      },
      "execution_count": null,
      "outputs": [
        {
          "output_type": "execute_result",
          "data": {
            "text/plain": [
              "0    500\n",
              "1    268\n",
              "Name: Outcome, dtype: int64"
            ]
          },
          "metadata": {},
          "execution_count": 214
        }
      ]
    },
    {
      "cell_type": "code",
      "source": [
        "from imblearn.over_sampling import RandomOverSampler\n",
        "ros = RandomOverSampler(random_state=41)\n",
        "X_ros,y_ros = ros.fit_resample(X,y)"
      ],
      "metadata": {
        "id": "3fSXVPKS9DTu"
      },
      "execution_count": null,
      "outputs": []
    },
    {
      "cell_type": "code",
      "source": [
        "X_train, X_test, y_train, y_test = train_test_split(X_ros, y_ros, test_size=0.1, random_state=0)"
      ],
      "metadata": {
        "id": "yKF-GpuBWaaX"
      },
      "execution_count": null,
      "outputs": []
    },
    {
      "cell_type": "code",
      "source": [
        "import numpy as np\n",
        "from sklearn.datasets import make_classification\n",
        "from sklearn.model_selection import train_test_split\n",
        "\n",
        "\n",
        "from imblearn.over_sampling import RandomOverSampler"
      ],
      "metadata": {
        "id": "Cw3T4gOKv4zO"
      },
      "execution_count": null,
      "outputs": []
    },
    {
      "cell_type": "code",
      "source": [
        "from sklearn.preprocessing import StandardScaler\n",
        "scaler = StandardScaler()\n",
        "\n",
        "X_train = scaler.fit_transform(X_train)\n",
        "\n",
        "\n",
        "\n",
        "X_test = scaler.transform(X_test)"
      ],
      "metadata": {
        "id": "D2dHWfJtTzF8"
      },
      "execution_count": null,
      "outputs": []
    },
    {
      "cell_type": "code",
      "source": [
        "print(X_train)"
      ],
      "metadata": {
        "colab": {
          "base_uri": "https://localhost:8080/"
        },
        "id": "qplZk__-XWLC",
        "outputId": "90a5dfd4-d74c-4422-b74d-af626fef66ec"
      },
      "execution_count": null,
      "outputs": [
        {
          "output_type": "stream",
          "name": "stdout",
          "text": [
            "[[ 1.17326939  1.26949628  1.80646526 ...  0.6018022  -0.94948585\n",
            "   0.75445489]\n",
            " [ 0.30034921  1.23889536  0.32831385 ...  1.62731367 -0.42910648\n",
            "  -0.61348145]\n",
            " [ 0.30034921 -0.81136647  0.22977042 ... -0.48701244 -0.83648918\n",
            "  -0.18600135]\n",
            " ...\n",
            " [ 0.00937581 -0.96437108 -0.213675   ... -1.03141976 -1.00003698\n",
            "  -1.12645758]\n",
            " [ 2.04618958 -1.23977939  0.22977042 ... -0.34774545 -0.54805033\n",
            "   0.07048672]\n",
            " [ 0.30034921  0.32086768  0.62394413 ... -4.1585967   0.46297244\n",
            "   2.97735146]]\n"
          ]
        }
      ]
    },
    {
      "cell_type": "code",
      "source": [
        "import tensorflow\n",
        "import keras\n",
        "from tensorflow import keras\n",
        "from tensorflow.keras import Sequential\n",
        "from tensorflow.keras.layers import Dense\n",
        "from keras.initializers import HeNormal\n",
        "tf.random.set_seed(3)"
      ],
      "metadata": {
        "id": "FB-onHxLX1pG"
      },
      "execution_count": null,
      "outputs": []
    },
    {
      "cell_type": "code",
      "source": [
        "model = Sequential([\n",
        "\n",
        "    Dense(150,activation='relu',name='a1',input_shape=(X_train.shape[1],)),\n",
        "    Dense(100,activation='relu',name='a2',kernel_initializer='he_normal'),\n",
        "    Dense(50,activation='relu',name='a3',kernel_initializer='he_normal'),\n",
        "    Dense(25,activation='relu',name='a4',kernel_initializer='he_normal'),\n",
        "    Dense(1,activation='sigmoid',name='a5',kernel_initializer='he_normal')\n",
        "\n",
        "]\n",
        ")\n",
        "\n"
      ],
      "metadata": {
        "id": "bKTSVV55X6PX"
      },
      "execution_count": null,
      "outputs": []
    },
    {
      "cell_type": "code",
      "source": [
        "model.summary()"
      ],
      "metadata": {
        "colab": {
          "base_uri": "https://localhost:8080/"
        },
        "id": "E6EaiSl0cxU7",
        "outputId": "2a7aa175-aa8f-49d5-9b81-8b306683adb9"
      },
      "execution_count": null,
      "outputs": [
        {
          "output_type": "stream",
          "name": "stdout",
          "text": [
            "Model: \"sequential_16\"\n",
            "_________________________________________________________________\n",
            " Layer (type)                Output Shape              Param #   \n",
            "=================================================================\n",
            " a1 (Dense)                  (None, 150)               1350      \n",
            "                                                                 \n",
            " a2 (Dense)                  (None, 100)               15100     \n",
            "                                                                 \n",
            " a3 (Dense)                  (None, 50)                5050      \n",
            "                                                                 \n",
            " a4 (Dense)                  (None, 25)                1275      \n",
            "                                                                 \n",
            " a5 (Dense)                  (None, 1)                 26        \n",
            "                                                                 \n",
            "=================================================================\n",
            "Total params: 22,801\n",
            "Trainable params: 22,801\n",
            "Non-trainable params: 0\n",
            "_________________________________________________________________\n"
          ]
        }
      ]
    },
    {
      "cell_type": "code",
      "source": [
        "model.compile(\n",
        "    loss = tf.keras.losses.BinaryCrossentropy(),\n",
        "    optimizer = tf.keras.optimizers.legacy.Adam(learning_rate=0.01),\n",
        "    metrics=['accuracy']\n",
        ")"
      ],
      "metadata": {
        "id": "qjcQw8iHdKu4"
      },
      "execution_count": null,
      "outputs": []
    },
    {
      "cell_type": "code",
      "source": [
        "callback = EarlyStopping(\n",
        "    monitor=\"val_loss\",\n",
        "    min_delta=0.00001,\n",
        "    patience=3,\n",
        "    verbose=1,\n",
        "    mode=\"auto\",\n",
        "    baseline=None,\n",
        "    restore_best_weights=False\n",
        ")"
      ],
      "metadata": {
        "id": "a-iLsgVBe-rT"
      },
      "execution_count": null,
      "outputs": []
    },
    {
      "cell_type": "code",
      "source": [
        "history=model.fit(X_train, y_train,\n",
        "          epochs=70,\n",
        "          batch_size=32,callbacks=callback,validation_split=0.2\n",
        "         )"
      ],
      "metadata": {
        "colab": {
          "base_uri": "https://localhost:8080/"
        },
        "id": "GzfiKx4Tdeva",
        "outputId": "8d80fdb4-daaa-4c0a-da65-ebe7306b6ceb"
      },
      "execution_count": null,
      "outputs": [
        {
          "output_type": "stream",
          "name": "stdout",
          "text": [
            "Epoch 1/70\n",
            "23/23 [==============================] - 1s 25ms/step - loss: 0.0309 - accuracy: 0.9875 - val_loss: 0.0465 - val_accuracy: 0.9778\n",
            "Epoch 2/70\n",
            "23/23 [==============================] - 0s 9ms/step - loss: 0.0302 - accuracy: 0.9875 - val_loss: 0.0377 - val_accuracy: 0.9833\n",
            "Epoch 3/70\n",
            "23/23 [==============================] - 0s 6ms/step - loss: 0.0260 - accuracy: 0.9903 - val_loss: 0.0448 - val_accuracy: 0.9778\n",
            "Epoch 4/70\n",
            "23/23 [==============================] - 0s 5ms/step - loss: 0.0276 - accuracy: 0.9889 - val_loss: 0.0605 - val_accuracy: 0.9667\n",
            "Epoch 5/70\n",
            "23/23 [==============================] - 0s 5ms/step - loss: 0.0392 - accuracy: 0.9889 - val_loss: 0.0567 - val_accuracy: 0.9722\n",
            "Epoch 5: early stopping\n"
          ]
        }
      ]
    },
    {
      "cell_type": "code",
      "source": [
        "plt.plot(history.history['accuracy'])\n",
        "plt.plot(history.history['val_accuracy'])\n",
        "\n",
        "plt.title('model accuracy')\n",
        "plt.ylabel('accuracy')\n",
        "plt.xlabel('epoch')\n",
        "\n",
        "plt.legend(['training data', 'validation data'], loc = 'lower right')"
      ],
      "metadata": {
        "colab": {
          "base_uri": "https://localhost:8080/",
          "height": 489
        },
        "id": "yyz41U6Wgjk_",
        "outputId": "8393ae03-4326-4b0b-952e-a872b4964936"
      },
      "execution_count": null,
      "outputs": [
        {
          "output_type": "execute_result",
          "data": {
            "text/plain": [
              "<matplotlib.legend.Legend at 0x7fa6586a3ca0>"
            ]
          },
          "metadata": {},
          "execution_count": 247
        },
        {
          "output_type": "display_data",
          "data": {
            "text/plain": [
              "<Figure size 640x480 with 1 Axes>"
            ],
            "image/png": "[encoded data removed]"
          },
          "metadata": {}
        }
      ]
    },
    {
      "cell_type": "code",
      "source": [
        "plt.plot(history.history['loss'])\n",
        "plt.plot(history.history['val_loss'])\n",
        "\n",
        "plt.title('model loss')\n",
        "plt.ylabel('loss')\n",
        "plt.xlabel('epoch')\n",
        "\n",
        "plt.legend(['training data', 'validation data'], loc = 'upper right')"
      ],
      "metadata": {
        "colab": {
          "base_uri": "https://localhost:8080/",
          "height": 489
        },
        "id": "4ghITepXhO6w",
        "outputId": "d71e4fcb-886d-45c7-a079-8188e4f27bf2"
      },
      "execution_count": null,
      "outputs": [
        {
          "output_type": "execute_result",
          "data": {
            "text/plain": [
              "<matplotlib.legend.Legend at 0x7fa6586a1090>"
            ]
          },
          "metadata": {},
          "execution_count": 248
        },
        {
          "output_type": "display_data",
          "data": {
            "text/plain": [
              "<Figure size 640x480 with 1 Axes>"
            ],
            "image/png": "[encoded data removed]"
          },
          "metadata": {}
        }
      ]
    },
    {
      "cell_type": "code",
      "source": [
        "loss, accuracy = model.evaluate(X_test, y_test)\n",
        "print(accuracy)"
      ],
      "metadata": {
        "colab": {
          "base_uri": "https://localhost:8080/"
        },
        "id": "oHDrJMjvhsn8",
        "outputId": "2eae09ee-99a2-498b-cd81-11257a9b7be5"
      },
      "execution_count": null,
      "outputs": [
        {
          "output_type": "stream",
          "name": "stdout",
          "text": [
            "4/4 [==============================] - 0s 5ms/step - loss: 1.0731 - accuracy: 0.9200\n",
            "0.9200000166893005\n"
          ]
        }
      ]
    },
    {
      "cell_type": "code",
      "source": [
        "y_pred = model.predict(X_test)"
      ],
      "metadata": {
        "colab": {
          "base_uri": "https://localhost:8080/"
        },
        "id": "lBnZjhFkobyf",
        "outputId": "52487116-f9b5-4232-b3a6-a9e2a170f66b"
      },
      "execution_count": null,
      "outputs": [
        {
          "output_type": "stream",
          "name": "stdout",
          "text": [
            "4/4 [==============================] - 0s 3ms/step\n"
          ]
        }
      ]
    },
    {
      "cell_type": "code",
      "source": [
        "y_pred"
      ],
      "metadata": {
        "colab": {
          "base_uri": "https://localhost:8080/"
        },
        "id": "_9PQobeOo8V7",
        "outputId": "a76ec956-13c3-47ad-901e-0413a754f168"
      },
      "execution_count": null,
      "outputs": [
        {
          "output_type": "execute_result",
          "data": {
            "text/plain": [
              "array([[1.0000000e+00],\n",
              "       [1.0000000e+00],\n",
              "       [1.0000000e+00],\n",
              "       [1.6716642e-13],\n",
              "       [1.0765494e-15],\n",
              "       [1.0000000e+00],\n",
              "       [1.3475596e-35],\n",
              "       [1.0000000e+00],\n",
              "       [1.0000000e+00],\n",
              "       [7.8663236e-01],\n",
              "       [3.8873201e-05],\n",
              "       [7.2364867e-01],\n",
              "       [9.9907643e-01],\n",
              "       [5.3986657e-33],\n",
              "       [7.8663236e-01],\n",
              "       [3.9294389e-36],\n",
              "       [9.9989986e-01],\n",
              "       [1.0000000e+00],\n",
              "       [9.9991971e-01],\n",
              "       [6.0356765e-06],\n",
              "       [1.0000000e+00],\n",
              "       [2.1051123e-09],\n",
              "       [1.3697132e-06],\n",
              "       [6.0308160e-08],\n",
              "       [9.9986261e-01],\n",
              "       [1.0000000e+00],\n",
              "       [1.0000000e+00],\n",
              "       [3.3113285e-30],\n",
              "       [1.0420000e-05],\n",
              "       [4.6291898e-05],\n",
              "       [1.0000000e+00],\n",
              "       [7.1444994e-01],\n",
              "       [9.9999851e-01],\n",
              "       [1.0000000e+00],\n",
              "       [1.0000000e+00],\n",
              "       [1.0023539e-20],\n",
              "       [1.0000000e+00],\n",
              "       [9.9995953e-01],\n",
              "       [1.0000000e+00],\n",
              "       [1.0000000e+00],\n",
              "       [7.8663236e-01],\n",
              "       [1.0000000e+00],\n",
              "       [9.9899811e-01],\n",
              "       [1.9737378e-02],\n",
              "       [5.0740014e-06],\n",
              "       [1.0000000e+00],\n",
              "       [1.0000000e+00],\n",
              "       [4.8970844e-04],\n",
              "       [7.0497420e-31],\n",
              "       [2.7312489e-11],\n",
              "       [2.8919301e-11],\n",
              "       [1.0000000e+00],\n",
              "       [5.2864232e-07],\n",
              "       [1.0443912e-30],\n",
              "       [9.9964207e-01],\n",
              "       [3.4997717e-21],\n",
              "       [3.4777144e-01],\n",
              "       [1.0000000e+00],\n",
              "       [1.0000000e+00],\n",
              "       [7.8663236e-01],\n",
              "       [1.6442766e-04],\n",
              "       [3.6246359e-08],\n",
              "       [7.1463622e-09],\n",
              "       [4.1874107e-05],\n",
              "       [2.3814417e-08],\n",
              "       [6.2734508e-30],\n",
              "       [1.0000000e+00],\n",
              "       [6.3787806e-09],\n",
              "       [1.2325132e-33],\n",
              "       [1.7227804e-02],\n",
              "       [1.0709456e-12],\n",
              "       [7.4257579e-16],\n",
              "       [1.0000000e+00],\n",
              "       [5.4545190e-17],\n",
              "       [9.9999964e-01],\n",
              "       [2.6454583e-09],\n",
              "       [9.9999690e-01],\n",
              "       [9.9999577e-01],\n",
              "       [5.7836787e-06],\n",
              "       [4.1191640e-21],\n",
              "       [1.0000000e+00],\n",
              "       [5.7353554e-17],\n",
              "       [9.9998176e-01],\n",
              "       [1.0000000e+00],\n",
              "       [9.9999148e-01],\n",
              "       [5.1203593e-11],\n",
              "       [1.0000000e+00],\n",
              "       [3.9983811e-06],\n",
              "       [3.6110400e-24],\n",
              "       [1.0000000e+00],\n",
              "       [1.0722144e-13],\n",
              "       [0.0000000e+00],\n",
              "       [1.0000000e+00],\n",
              "       [1.0391113e-27],\n",
              "       [9.9999988e-01],\n",
              "       [1.0000000e+00],\n",
              "       [1.6561021e-08],\n",
              "       [6.7635256e-07],\n",
              "       [1.4010434e-34],\n",
              "       [1.2442814e-03]], dtype=float32)"
            ]
          },
          "metadata": {},
          "execution_count": 251
        }
      ]
    },
    {
      "cell_type": "code",
      "source": [
        "print(y_pred)"
      ],
      "metadata": {
        "colab": {
          "base_uri": "https://localhost:8080/"
        },
        "id": "7-GFctrXo_-p",
        "outputId": "e7557044-3649-4d6e-c5dc-0445bd718147"
      },
      "execution_count": null,
      "outputs": [
        {
          "output_type": "stream",
          "name": "stdout",
          "text": [
            "[[1.0000000e+00]\n",
            " [1.0000000e+00]\n",
            " [1.0000000e+00]\n",
            " [1.6716642e-13]\n",
            " [1.0765494e-15]\n",
            " [1.0000000e+00]\n",
            " [1.3475596e-35]\n",
            " [1.0000000e+00]\n",
            " [1.0000000e+00]\n",
            " [7.8663236e-01]\n",
            " [3.8873201e-05]\n",
            " [7.2364867e-01]\n",
            " [9.9907643e-01]\n",
            " [5.3986657e-33]\n",
            " [7.8663236e-01]\n",
            " [3.9294389e-36]\n",
            " [9.9989986e-01]\n",
            " [1.0000000e+00]\n",
            " [9.9991971e-01]\n",
            " [6.0356765e-06]\n",
            " [1.0000000e+00]\n",
            " [2.1051123e-09]\n",
            " [1.3697132e-06]\n",
            " [6.0308160e-08]\n",
            " [9.9986261e-01]\n",
            " [1.0000000e+00]\n",
            " [1.0000000e+00]\n",
            " [3.3113285e-30]\n",
            " [1.0420000e-05]\n",
            " [4.6291898e-05]\n",
            " [1.0000000e+00]\n",
            " [7.1444994e-01]\n",
            " [9.9999851e-01]\n",
            " [1.0000000e+00]\n",
            " [1.0000000e+00]\n",
            " [1.0023539e-20]\n",
            " [1.0000000e+00]\n",
            " [9.9995953e-01]\n",
            " [1.0000000e+00]\n",
            " [1.0000000e+00]\n",
            " [7.8663236e-01]\n",
            " [1.0000000e+00]\n",
            " [9.9899811e-01]\n",
            " [1.9737378e-02]\n",
            " [5.0740014e-06]\n",
            " [1.0000000e+00]\n",
            " [1.0000000e+00]\n",
            " [4.8970844e-04]\n",
            " [7.0497420e-31]\n",
            " [2.7312489e-11]\n",
            " [2.8919301e-11]\n",
            " [1.0000000e+00]\n",
            " [5.2864232e-07]\n",
            " [1.0443912e-30]\n",
            " [9.9964207e-01]\n",
            " [3.4997717e-21]\n",
            " [3.4777144e-01]\n",
            " [1.0000000e+00]\n",
            " [1.0000000e+00]\n",
            " [7.8663236e-01]\n",
            " [1.6442766e-04]\n",
            " [3.6246359e-08]\n",
            " [7.1463622e-09]\n",
            " [4.1874107e-05]\n",
            " [2.3814417e-08]\n",
            " [6.2734508e-30]\n",
            " [1.0000000e+00]\n",
            " [6.3787806e-09]\n",
            " [1.2325132e-33]\n",
            " [1.7227804e-02]\n",
            " [1.0709456e-12]\n",
            " [7.4257579e-16]\n",
            " [1.0000000e+00]\n",
            " [5.4545190e-17]\n",
            " [9.9999964e-01]\n",
            " [2.6454583e-09]\n",
            " [9.9999690e-01]\n",
            " [9.9999577e-01]\n",
            " [5.7836787e-06]\n",
            " [4.1191640e-21]\n",
            " [1.0000000e+00]\n",
            " [5.7353554e-17]\n",
            " [9.9998176e-01]\n",
            " [1.0000000e+00]\n",
            " [9.9999148e-01]\n",
            " [5.1203593e-11]\n",
            " [1.0000000e+00]\n",
            " [3.9983811e-06]\n",
            " [3.6110400e-24]\n",
            " [1.0000000e+00]\n",
            " [1.0722144e-13]\n",
            " [0.0000000e+00]\n",
            " [1.0000000e+00]\n",
            " [1.0391113e-27]\n",
            " [9.9999988e-01]\n",
            " [1.0000000e+00]\n",
            " [1.6561021e-08]\n",
            " [6.7635256e-07]\n",
            " [1.4010434e-34]\n",
            " [1.2442814e-03]]\n"
          ]
        }
      ]
    },
    {
      "cell_type": "code",
      "source": [
        "y_pred = model.predict(X_test)\n",
        "for i in range(len(y_pred)):\n",
        "    if y_pred[i]>=0.5:\n",
        "        y_pred[i]= 1\n",
        "    else:\n",
        "        y_pred[i]= 0"
      ],
      "metadata": {
        "colab": {
          "base_uri": "https://localhost:8080/"
        },
        "id": "NnWdhxvdtYdX",
        "outputId": "03e0f567-0ddd-445c-9b24-d8649ac40b68"
      },
      "execution_count": null,
      "outputs": [
        {
          "output_type": "stream",
          "name": "stdout",
          "text": [
            "4/4 [==============================] - 0s 3ms/step\n"
          ]
        }
      ]
    },
    {
      "cell_type": "code",
      "source": [
        "from sklearn.metrics import accuracy_score, confusion_matrix, classification_report\n",
        "print(\"Accuracy:\", accuracy_score(y_test, y_pred))\n",
        "print(\"Confusion Matrix:\")\n",
        "print(confusion_matrix(y_test, y_pred))\n",
        "print(\"Classification Report:\")\n",
        "print(classification_report(y_test, y_pred))"
      ],
      "metadata": {
        "colab": {
          "base_uri": "https://localhost:8080/"
        },
        "id": "GKkT7bsnDn7T",
        "outputId": "f5278392-6150-484e-9cd5-9823b618d435"
      },
      "execution_count": null,
      "outputs": [
        {
          "output_type": "stream",
          "name": "stdout",
          "text": [
            "Accuracy: 0.92\n",
            "Confusion Matrix:\n",
            "[[48  6]\n",
            " [ 2 44]]\n",
            "Classification Report:\n",
            "              precision    recall  f1-score   support\n",
            "\n",
            "           0       0.96      0.89      0.92        54\n",
            "           1       0.88      0.96      0.92        46\n",
            "\n",
            "    accuracy                           0.92       100\n",
            "   macro avg       0.92      0.92      0.92       100\n",
            "weighted avg       0.92      0.92      0.92       100\n",
            "\n"
          ]
        }
      ]
    },
    {
      "cell_type": "code",
      "source": [
        "import seaborn as sns\n",
        "sns.heatmap(confusion_matrix(y_test, y_pred),annot=True)"
      ],
      "metadata": {
        "colab": {
          "base_uri": "https://localhost:8080/",
          "height": 447
        },
        "id": "aC2FHhcguEib",
        "outputId": "d0d7b991-a412-4ec9-a44c-f509161b385a"
      },
      "execution_count": null,
      "outputs": [
        {
          "output_type": "execute_result",
          "data": {
            "text/plain": [
              "<Axes: >"
            ]
          },
          "metadata": {},
          "execution_count": 259
        },
        {
          "output_type": "display_data",
          "data": {
            "text/plain": [
              "<Figure size 640x480 with 2 Axes>"
            ],
            "image/png": "[encoded data removed]"
          },
          "metadata": {}
        }
      ]
    }
  ]
}